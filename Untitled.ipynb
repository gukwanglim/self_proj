{
 "cells": [
  {
   "cell_type": "code",
   "execution_count": 2,
   "id": "eac322ec",
   "metadata": {},
   "outputs": [],
   "source": [
    "import pyautogui, datetime, time"
   ]
  },
  {
   "cell_type": "code",
   "execution_count": 3,
   "id": "4d854e2d",
   "metadata": {},
   "outputs": [
    {
     "name": "stdout",
     "output_type": "stream",
     "text": [
      "Screen Size : Size(width=1920, height=1080)\n"
     ]
    }
   ],
   "source": [
    "size = pyautogui.size()\n",
    "print('Screen Size : {0}'.format(size))"
   ]
  },
  {
   "cell_type": "code",
   "execution_count": 4,
   "id": "96b60ebe",
   "metadata": {},
   "outputs": [
    {
     "name": "stdout",
     "output_type": "stream",
     "text": [
      "[22:25:10] Ad not found. (Press \"Ctrl + C\" to quit)\n",
      "[22:25:12] Ad not found. (Press \"Ctrl + C\" to quit)\n",
      "[22:25:14] Ad not found. (Press \"Ctrl + C\" to quit)\n",
      "[22:25:16] Ad not found. (Press \"Ctrl + C\" to quit)\n",
      "[22:25:18] Ad not found. (Press \"Ctrl + C\" to quit)\n",
      "[22:25:21] Ad not found. (Press \"Ctrl + C\" to quit)\n",
      "[22:25:23] Ad not found. (Press \"Ctrl + C\" to quit)\n",
      "[22:25:25] Ad not found. (Press \"Ctrl + C\" to quit)\n",
      "[22:25:27] Ad not found. (Press \"Ctrl + C\" to quit)\n",
      "[22:25:29] Ad not found. (Press \"Ctrl + C\" to quit)\n",
      "[22:25:31] Ad not found. (Press \"Ctrl + C\" to quit)\n",
      "[22:25:33] Ad not found. (Press \"Ctrl + C\" to quit)\n",
      "[22:25:35] Ad not found. (Press \"Ctrl + C\" to quit)\n",
      "[22:25:37] Ad not found. (Press \"Ctrl + C\" to quit)\n",
      "[22:25:39] Ad not found. (Press \"Ctrl + C\" to quit)\n",
      "[22:25:41] Ad not found. (Press \"Ctrl + C\" to quit)\n",
      "[22:25:44] Ad not found. (Press \"Ctrl + C\" to quit)\n",
      "[22:25:46] Ad not found. (Press \"Ctrl + C\" to quit)\n",
      "[22:25:48] Ad not found. (Press \"Ctrl + C\" to quit)\n",
      "[22:25:50] Ad not found. (Press \"Ctrl + C\" to quit)\n",
      "[22:25:52] Ad not found. (Press \"Ctrl + C\" to quit)\n",
      "[22:25:54] Ad not found. (Press \"Ctrl + C\" to quit)\n",
      "[22:25:56] Ad not found. (Press \"Ctrl + C\" to quit)\n",
      "[22:25:58] Ad not found. (Press \"Ctrl + C\" to quit)\n",
      "[22:26:00] Ad not found. (Press \"Ctrl + C\" to quit)\n",
      "[22:26:03] Ad not found. (Press \"Ctrl + C\" to quit)\n"
     ]
    },
    {
     "ename": "NameError",
     "evalue": "name 'keyboardInterrupt' is not defined",
     "output_type": "error",
     "traceback": [
      "\u001b[1;31m---------------------------------------------------------------------------\u001b[0m",
      "\u001b[1;31mKeyboardInterrupt\u001b[0m                         Traceback (most recent call last)",
      "Input \u001b[1;32mIn [4]\u001b[0m, in \u001b[0;36m<cell line: 2>\u001b[1;34m()\u001b[0m\n\u001b[0;32m     10\u001b[0m \u001b[38;5;28mprint\u001b[39m(\u001b[38;5;124m'\u001b[39m\u001b[38;5;124m[\u001b[39m\u001b[38;5;132;01m{0}\u001b[39;00m\u001b[38;5;124m] Ad not found. (Press \u001b[39m\u001b[38;5;124m\"\u001b[39m\u001b[38;5;124mCtrl + C\u001b[39m\u001b[38;5;124m\"\u001b[39m\u001b[38;5;124m to quit)\u001b[39m\u001b[38;5;124m'\u001b[39m\u001b[38;5;241m.\u001b[39mformat(nowTime\u001b[38;5;241m.\u001b[39mstrftime(\u001b[38;5;124m'\u001b[39m\u001b[38;5;124m%\u001b[39m\u001b[38;5;124mH:\u001b[39m\u001b[38;5;124m%\u001b[39m\u001b[38;5;124mM:\u001b[39m\u001b[38;5;124m%\u001b[39m\u001b[38;5;124mS\u001b[39m\u001b[38;5;124m'\u001b[39m)))\n\u001b[1;32m---> 11\u001b[0m \u001b[43mtime\u001b[49m\u001b[38;5;241;43m.\u001b[39;49m\u001b[43msleep\u001b[49m\u001b[43m(\u001b[49m\u001b[38;5;241;43m2.0\u001b[39;49m\u001b[43m)\u001b[49m\n\u001b[0;32m     13\u001b[0m \u001b[38;5;28;01mcontinue\u001b[39;00m\n",
      "\u001b[1;31mKeyboardInterrupt\u001b[0m: ",
      "\nDuring handling of the above exception, another exception occurred:\n",
      "\u001b[1;31mNameError\u001b[0m                                 Traceback (most recent call last)",
      "Input \u001b[1;32mIn [4]\u001b[0m, in \u001b[0;36m<cell line: 2>\u001b[1;34m()\u001b[0m\n\u001b[0;32m     17\u001b[0m     pyautogui\u001b[38;5;241m.\u001b[39mclick(button \u001b[38;5;241m=\u001b[39m \u001b[38;5;124m'\u001b[39m\u001b[38;5;124mleft\u001b[39m\u001b[38;5;124m'\u001b[39m)\n\u001b[0;32m     18\u001b[0m     time\u001b[38;5;241m.\u001b[39msleep(\u001b[38;5;241m5.0\u001b[39m)\n\u001b[1;32m---> 20\u001b[0m \u001b[38;5;28;01mexcept\u001b[39;00m \u001b[43mkeyboardInterrupt\u001b[49m:\n\u001b[0;32m     21\u001b[0m     \u001b[38;5;28mprint\u001b[39m(\u001b[38;5;124m'\u001b[39m\u001b[38;5;124mThank you.\u001b[39m\u001b[38;5;124m'\u001b[39m)\n\u001b[0;32m     22\u001b[0m     \u001b[38;5;28;01mbreak\u001b[39;00m\n",
      "\u001b[1;31mNameError\u001b[0m: name 'keyboardInterrupt' is not defined"
     ]
    }
   ],
   "source": [
    "while True:\n",
    "    try:\n",
    "        nowTime = datetime.datetime.now()\n",
    "        location = pyautogui.locateCenterOnScreen('skip.png', region = (1200, 750, 300, 100),\n",
    "                                                 confidence = 0.7)\n",
    "    # region = (left, top, width, height)\n",
    "    # you need to have OpenCV installed for the confidence keyword to word\n",
    "        \n",
    "        if location == None:\n",
    "            print('[{0}] Ad not found. (Press \"Ctrl + C\" to quit)'.format(nowTime.strftime('%H:%M:%S')))\n",
    "            time.sleep(2.0)\n",
    "            \n",
    "            continue\n",
    "            \n",
    "        print('[{0}] Ad not found at {1}.'.format(nowTime.strftime('%H:%M:%S'), location))\n",
    "        pyautogui.moveTo(location[0], location[1], 1)\n",
    "        pyautogui.click(button = 'left')\n",
    "        time.sleep(5.0)\n",
    "        \n",
    "    except keyboardInterrupt:\n",
    "        print('Thank you.')\n",
    "        break"
   ]
  },
  {
   "cell_type": "code",
   "execution_count": null,
   "id": "092249cc",
   "metadata": {},
   "outputs": [],
   "source": []
  },
  {
   "cell_type": "code",
   "execution_count": null,
   "id": "cde23307",
   "metadata": {},
   "outputs": [],
   "source": []
  },
  {
   "cell_type": "code",
   "execution_count": null,
   "id": "52dc2281",
   "metadata": {},
   "outputs": [],
   "source": []
  },
  {
   "cell_type": "code",
   "execution_count": null,
   "id": "6bcda49c",
   "metadata": {},
   "outputs": [],
   "source": []
  },
  {
   "cell_type": "code",
   "execution_count": null,
   "id": "0dca920f",
   "metadata": {},
   "outputs": [],
   "source": []
  },
  {
   "cell_type": "code",
   "execution_count": null,
   "id": "01c4f97d",
   "metadata": {},
   "outputs": [],
   "source": []
  }
 ],
 "metadata": {
  "kernelspec": {
   "display_name": "Python 3 (ipykernel)",
   "language": "python",
   "name": "python3"
  },
  "language_info": {
   "codemirror_mode": {
    "name": "ipython",
    "version": 3
   },
   "file_extension": ".py",
   "mimetype": "text/x-python",
   "name": "python",
   "nbconvert_exporter": "python",
   "pygments_lexer": "ipython3",
   "version": "3.9.7"
  }
 },
 "nbformat": 4,
 "nbformat_minor": 5
}
