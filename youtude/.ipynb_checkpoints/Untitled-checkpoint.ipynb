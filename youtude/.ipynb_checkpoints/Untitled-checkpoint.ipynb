{
 "cells": [
  {
   "cell_type": "code",
   "execution_count": 2,
   "id": "dfe60357",
   "metadata": {},
   "outputs": [],
   "source": [
    "import pyautogui, datetime, time"
   ]
  },
  {
   "cell_type": "code",
   "execution_count": 3,
   "id": "53c611e3",
   "metadata": {},
   "outputs": [
    {
     "name": "stdout",
     "output_type": "stream",
     "text": [
      "Screen Size : Size(width=1920, height=1080)\n"
     ]
    }
   ],
   "source": [
    "size = pyautogui.size()\n",
    "print('Screen Size : {0}'.format(size))"
   ]
  },
  {
   "cell_type": "code",
   "execution_count": null,
   "id": "0249ed09",
   "metadata": {},
   "outputs": [],
   "source": [
    "while True:\n",
    "    try:\n",
    "        nowTime = datetime.datetime.now()\n",
    "        location = pyautogui.locateCenterOnScreen('skip.png', region = (1200, 750, 300, 100),\n",
    "                                                 confidence = 0.7)\n",
    "    # region = (left, top, width, height)\n",
    "    # you need to have OpenCV installed for the confidence keyword to word\n",
    "        \n",
    "        if location == None:\n",
    "            print('[{0}] Ad not found. (Press \"Ctrl + C\" to quit)'.format(nowTime.strftime('%H:%M:%S')))\n",
    "            time.sleep(2.0)\n",
    "            \n",
    "            continue\n",
    "            \n",
    "        print('[{0}] Ad not found at {1}.'.format(nowTime.strftime('%H:%M:%S'), location))\n",
    "        pyautogui.moveTo(location[0], location[1], 1)\n",
    "        pyautogui.click(button = 'left')\n",
    "        time.sleep(5.0)\n",
    "        \n",
    "    except keyboardInterrupt:\n",
    "        print('Thank you.')\n",
    "        break"
   ]
  },
  {
   "cell_type": "code",
   "execution_count": null,
   "id": "55de4135",
   "metadata": {},
   "outputs": [],
   "source": []
  },
  {
   "cell_type": "code",
   "execution_count": null,
   "id": "bdd42ea6",
   "metadata": {},
   "outputs": [],
   "source": []
  },
  {
   "cell_type": "code",
   "execution_count": null,
   "id": "90e052af",
   "metadata": {},
   "outputs": [],
   "source": []
  },
  {
   "cell_type": "code",
   "execution_count": null,
   "id": "551ba2df",
   "metadata": {},
   "outputs": [],
   "source": []
  },
  {
   "cell_type": "code",
   "execution_count": null,
   "id": "db921d57",
   "metadata": {},
   "outputs": [],
   "source": []
  },
  {
   "cell_type": "code",
   "execution_count": null,
   "id": "41cfe89b",
   "metadata": {},
   "outputs": [],
   "source": []
  }
 ],
 "metadata": {
  "kernelspec": {
   "display_name": "Python 3 (ipykernel)",
   "language": "python",
   "name": "python3"
  },
  "language_info": {
   "codemirror_mode": {
    "name": "ipython",
    "version": 3
   },
   "file_extension": ".py",
   "mimetype": "text/x-python",
   "name": "python",
   "nbconvert_exporter": "python",
   "pygments_lexer": "ipython3",
   "version": "3.9.7"
  }
 },
 "nbformat": 4,
 "nbformat_minor": 5
}
